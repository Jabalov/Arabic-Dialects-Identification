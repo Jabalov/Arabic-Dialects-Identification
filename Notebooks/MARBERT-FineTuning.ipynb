{
 "cells": [
  {
   "cell_type": "code",
   "execution_count": 3,
   "metadata": {
    "collapsed": true,
    "execution": {
     "iopub.execute_input": "2022-03-11T15:25:55.626793Z",
     "iopub.status.busy": "2022-03-11T15:25:55.626134Z",
     "iopub.status.idle": "2022-03-11T15:26:11.913579Z",
     "shell.execute_reply": "2022-03-11T15:26:11.912670Z",
     "shell.execute_reply.started": "2022-03-11T15:25:55.626752Z"
    },
    "id": "TCVgYdgSOD31",
    "jupyter": {
     "outputs_hidden": true
    },
    "outputId": "52078a97-2954-4be7-9ddd-3f666518eac0"
   },
   "outputs": [
    {
     "name": "stdout",
     "output_type": "stream",
     "text": [
      "Requirement already satisfied: transformers in /opt/conda/lib/python3.7/site-packages (4.15.0)\n",
      "Requirement already satisfied: importlib-metadata in /opt/conda/lib/python3.7/site-packages (from transformers) (4.11.2)\n",
      "Requirement already satisfied: regex!=2019.12.17 in /opt/conda/lib/python3.7/site-packages (from transformers) (2021.11.10)\n",
      "Requirement already satisfied: sacremoses in /opt/conda/lib/python3.7/site-packages (from transformers) (0.0.47)\n",
      "Requirement already satisfied: tokenizers<0.11,>=0.10.1 in /opt/conda/lib/python3.7/site-packages (from transformers) (0.10.3)\n",
      "Requirement already satisfied: tqdm>=4.27 in /opt/conda/lib/python3.7/site-packages (from transformers) (4.62.3)\n",
      "Requirement already satisfied: filelock in /opt/conda/lib/python3.7/site-packages (from transformers) (3.4.2)\n",
      "Requirement already satisfied: numpy>=1.17 in /opt/conda/lib/python3.7/site-packages (from transformers) (1.20.3)\n",
      "Requirement already satisfied: huggingface-hub<1.0,>=0.1.0 in /opt/conda/lib/python3.7/site-packages (from transformers) (0.2.1)\n",
      "Requirement already satisfied: requests in /opt/conda/lib/python3.7/site-packages (from transformers) (2.26.0)\n",
      "Requirement already satisfied: pyyaml>=5.1 in /opt/conda/lib/python3.7/site-packages (from transformers) (6.0)\n",
      "Requirement already satisfied: packaging>=20.0 in /opt/conda/lib/python3.7/site-packages (from transformers) (21.3)\n",
      "Requirement already satisfied: typing-extensions>=3.7.4.3 in /opt/conda/lib/python3.7/site-packages (from huggingface-hub<1.0,>=0.1.0->transformers) (4.1.1)\n",
      "Requirement already satisfied: pyparsing!=3.0.5,>=2.0.2 in /opt/conda/lib/python3.7/site-packages (from packaging>=20.0->transformers) (3.0.6)\n",
      "Requirement already satisfied: zipp>=0.5 in /opt/conda/lib/python3.7/site-packages (from importlib-metadata->transformers) (3.6.0)\n",
      "Requirement already satisfied: charset-normalizer~=2.0.0 in /opt/conda/lib/python3.7/site-packages (from requests->transformers) (2.0.9)\n",
      "Requirement already satisfied: idna<4,>=2.5 in /opt/conda/lib/python3.7/site-packages (from requests->transformers) (3.1)\n",
      "Requirement already satisfied: urllib3<1.27,>=1.21.1 in /opt/conda/lib/python3.7/site-packages (from requests->transformers) (1.26.7)\n",
      "Requirement already satisfied: certifi>=2017.4.17 in /opt/conda/lib/python3.7/site-packages (from requests->transformers) (2021.10.8)\n",
      "Requirement already satisfied: six in /opt/conda/lib/python3.7/site-packages (from sacremoses->transformers) (1.16.0)\n",
      "Requirement already satisfied: click in /opt/conda/lib/python3.7/site-packages (from sacremoses->transformers) (8.0.3)\n",
      "Requirement already satisfied: joblib in /opt/conda/lib/python3.7/site-packages (from sacremoses->transformers) (1.1.0)\n",
      "\u001b[33mWARNING: Running pip as the 'root' user can result in broken permissions and conflicting behaviour with the system package manager. It is recommended to use a virtual environment instead: https://pip.pypa.io/warnings/venv\u001b[0m\n",
      "Requirement already satisfied: datasets in /opt/conda/lib/python3.7/site-packages (1.18.4)\n",
      "Requirement already satisfied: tqdm>=4.62.1 in /opt/conda/lib/python3.7/site-packages (from datasets) (4.62.3)\n",
      "Requirement already satisfied: importlib-metadata in /opt/conda/lib/python3.7/site-packages (from datasets) (4.11.2)\n",
      "Requirement already satisfied: numpy>=1.17 in /opt/conda/lib/python3.7/site-packages (from datasets) (1.20.3)\n",
      "Requirement already satisfied: xxhash in /opt/conda/lib/python3.7/site-packages (from datasets) (3.0.0)\n",
      "Requirement already satisfied: multiprocess in /opt/conda/lib/python3.7/site-packages (from datasets) (0.70.12.2)\n",
      "Requirement already satisfied: huggingface-hub<1.0.0,>=0.1.0 in /opt/conda/lib/python3.7/site-packages (from datasets) (0.2.1)\n",
      "Requirement already satisfied: aiohttp in /opt/conda/lib/python3.7/site-packages (from datasets) (3.8.1)\n",
      "Requirement already satisfied: responses<0.19 in /opt/conda/lib/python3.7/site-packages (from datasets) (0.18.0)\n",
      "Requirement already satisfied: pyarrow!=4.0.0,>=3.0.0 in /opt/conda/lib/python3.7/site-packages (from datasets) (6.0.1)\n",
      "Requirement already satisfied: dill in /opt/conda/lib/python3.7/site-packages (from datasets) (0.3.4)\n",
      "Requirement already satisfied: packaging in /opt/conda/lib/python3.7/site-packages (from datasets) (21.3)\n",
      "Requirement already satisfied: pandas in /opt/conda/lib/python3.7/site-packages (from datasets) (1.3.5)\n",
      "Requirement already satisfied: fsspec[http]>=2021.05.0 in /opt/conda/lib/python3.7/site-packages (from datasets) (2022.2.0)\n",
      "Requirement already satisfied: requests>=2.19.0 in /opt/conda/lib/python3.7/site-packages (from datasets) (2.26.0)\n",
      "Requirement already satisfied: filelock in /opt/conda/lib/python3.7/site-packages (from huggingface-hub<1.0.0,>=0.1.0->datasets) (3.4.2)\n",
      "Requirement already satisfied: typing-extensions>=3.7.4.3 in /opt/conda/lib/python3.7/site-packages (from huggingface-hub<1.0.0,>=0.1.0->datasets) (4.1.1)\n",
      "Requirement already satisfied: pyyaml in /opt/conda/lib/python3.7/site-packages (from huggingface-hub<1.0.0,>=0.1.0->datasets) (6.0)\n",
      "Requirement already satisfied: pyparsing!=3.0.5,>=2.0.2 in /opt/conda/lib/python3.7/site-packages (from packaging->datasets) (3.0.6)\n",
      "Requirement already satisfied: certifi>=2017.4.17 in /opt/conda/lib/python3.7/site-packages (from requests>=2.19.0->datasets) (2021.10.8)\n",
      "Requirement already satisfied: idna<4,>=2.5 in /opt/conda/lib/python3.7/site-packages (from requests>=2.19.0->datasets) (3.1)\n",
      "Requirement already satisfied: urllib3<1.27,>=1.21.1 in /opt/conda/lib/python3.7/site-packages (from requests>=2.19.0->datasets) (1.26.7)\n",
      "Requirement already satisfied: charset-normalizer~=2.0.0 in /opt/conda/lib/python3.7/site-packages (from requests>=2.19.0->datasets) (2.0.9)\n",
      "Requirement already satisfied: yarl<2.0,>=1.0 in /opt/conda/lib/python3.7/site-packages (from aiohttp->datasets) (1.7.2)\n",
      "Requirement already satisfied: async-timeout<5.0,>=4.0.0a3 in /opt/conda/lib/python3.7/site-packages (from aiohttp->datasets) (4.0.1)\n",
      "Requirement already satisfied: asynctest==0.13.0 in /opt/conda/lib/python3.7/site-packages (from aiohttp->datasets) (0.13.0)\n",
      "Requirement already satisfied: aiosignal>=1.1.2 in /opt/conda/lib/python3.7/site-packages (from aiohttp->datasets) (1.2.0)\n",
      "Requirement already satisfied: multidict<7.0,>=4.5 in /opt/conda/lib/python3.7/site-packages (from aiohttp->datasets) (5.2.0)\n",
      "Requirement already satisfied: frozenlist>=1.1.1 in /opt/conda/lib/python3.7/site-packages (from aiohttp->datasets) (1.2.0)\n",
      "Requirement already satisfied: attrs>=17.3.0 in /opt/conda/lib/python3.7/site-packages (from aiohttp->datasets) (21.2.0)\n",
      "Requirement already satisfied: zipp>=0.5 in /opt/conda/lib/python3.7/site-packages (from importlib-metadata->datasets) (3.6.0)\n",
      "Requirement already satisfied: python-dateutil>=2.7.3 in /opt/conda/lib/python3.7/site-packages (from pandas->datasets) (2.8.2)\n",
      "Requirement already satisfied: pytz>=2017.3 in /opt/conda/lib/python3.7/site-packages (from pandas->datasets) (2021.3)\n",
      "Requirement already satisfied: six>=1.5 in /opt/conda/lib/python3.7/site-packages (from python-dateutil>=2.7.3->pandas->datasets) (1.16.0)\n",
      "\u001b[33mWARNING: Running pip as the 'root' user can result in broken permissions and conflicting behaviour with the system package manager. It is recommended to use a virtual environment instead: https://pip.pypa.io/warnings/venv\u001b[0m\n"
     ]
    }
   ],
   "source": [
    "! pip install transformers\n",
    "# ! pip install scipy sklearn\n",
    "# ! pip install farasapy\n",
    "# ! pip install pyarabic\n",
    "# ! git clone https://github.com/UBC-NLP/marbert\n",
    "# ! git clone https://github.com/aub-mind/arabert\n",
    "! pip install datasets\n"
   ]
  },
  {
   "cell_type": "code",
   "execution_count": null,
   "metadata": {
    "execution": {
     "iopub.execute_input": "2022-03-10T22:20:58.903303Z",
     "iopub.status.busy": "2022-03-10T22:20:58.903003Z",
     "iopub.status.idle": "2022-03-10T22:20:58.907481Z",
     "shell.execute_reply": "2022-03-10T22:20:58.906124Z",
     "shell.execute_reply.started": "2022-03-10T22:20:58.903264Z"
    },
    "id": "qrUK9Oby058W",
    "outputId": "7fae207f-1b13-4c3a-efbc-8cc9fb35b5b3"
   },
   "outputs": [],
   "source": [
    "# ! pip install huggingface_hub\n",
    "# ! apt install git-lfs\n",
    "# ! git config --global user.email \"moh.aboajabl@gmail.com\"\n",
    "# ! git config --global user.name \"jabalov\""
   ]
  },
  {
   "cell_type": "code",
   "execution_count": null,
   "metadata": {
    "execution": {
     "iopub.execute_input": "2022-03-10T22:20:58.909378Z",
     "iopub.status.busy": "2022-03-10T22:20:58.909011Z",
     "iopub.status.idle": "2022-03-10T22:20:58.91844Z",
     "shell.execute_reply": "2022-03-10T22:20:58.917622Z",
     "shell.execute_reply.started": "2022-03-10T22:20:58.909341Z"
    },
    "id": "kXAU4Sr501vm",
    "outputId": "8d92cd31-d54e-434a-d94a-505d95380b77"
   },
   "outputs": [],
   "source": [
    "# from huggingface_hub import notebook_login\n",
    "\n",
    "# notebook_login()"
   ]
  },
  {
   "cell_type": "code",
   "execution_count": 4,
   "metadata": {
    "execution": {
     "iopub.execute_input": "2022-03-11T15:26:26.651570Z",
     "iopub.status.busy": "2022-03-11T15:26:26.650765Z",
     "iopub.status.idle": "2022-03-11T15:26:31.417396Z",
     "shell.execute_reply": "2022-03-11T15:26:31.416624Z",
     "shell.execute_reply.started": "2022-03-11T15:26:26.651528Z"
    },
    "id": "qSF-J0ZoQ1HK"
   },
   "outputs": [],
   "source": [
    "import pandas as pd\n",
    "import numpy as np\n",
    "from sklearn.preprocessing import LabelEncoder\n",
    "\n",
    "from tensorflow.python.ops.numpy_ops import np_config\n",
    "np_config.enable_numpy_behavior()"
   ]
  },
  {
   "cell_type": "code",
   "execution_count": 5,
   "metadata": {
    "execution": {
     "iopub.execute_input": "2022-03-11T15:26:31.419339Z",
     "iopub.status.busy": "2022-03-11T15:26:31.418998Z",
     "iopub.status.idle": "2022-03-11T15:26:34.451382Z",
     "shell.execute_reply": "2022-03-11T15:26:34.450585Z",
     "shell.execute_reply.started": "2022-03-11T15:26:31.419298Z"
    },
    "id": "GVCZJ9USPVGO"
   },
   "outputs": [],
   "source": [
    "from transformers import AutoTokenizer\n",
    "from transformers import DataCollatorWithPadding\n",
    "from transformers import AutoModelForSequenceClassification, TrainingArguments, Trainer\n",
    "from transformers import TFAutoModelForSequenceClassification\n",
    "\n",
    "import tensorflow as tf\n",
    "from transformers import create_optimizer\n",
    "\n",
    "from datasets import list_datasets, load_dataset, Dataset\n",
    "from pprint import pprint\n",
    "from imblearn.over_sampling import SMOTE\n",
    "from sklearn.model_selection import train_test_split"
   ]
  },
  {
   "cell_type": "markdown",
   "metadata": {},
   "source": [
    "## Loading Cleaned dataset, splitting it into train test"
   ]
  },
  {
   "cell_type": "code",
   "execution_count": 50,
   "metadata": {
    "execution": {
     "iopub.execute_input": "2022-03-11T15:55:28.872785Z",
     "iopub.status.busy": "2022-03-11T15:55:28.872305Z",
     "iopub.status.idle": "2022-03-11T15:55:32.786467Z",
     "shell.execute_reply": "2022-03-11T15:55:32.785648Z",
     "shell.execute_reply.started": "2022-03-11T15:55:28.872745Z"
    },
    "id": "KrpP49hkpLz6"
   },
   "outputs": [],
   "source": [
    "df_cl = pd.read_csv(\"../input/cleaned-df/cleaned_df.csv\", engine=\"python\")\n",
    "df_cl[\"label\"] = df_cl[\"dialect\"]\n",
    "\n",
    "df_cl.drop(df_cl[df_cl.text == '[]'].index, inplace=True, axis=0)\n",
    "df_cl.dropna(inplace=True)\n",
    "\n",
    "df_cl.label = LabelEncoder().fit_transform(df_cl.label)\n",
    "\n",
    "df_train, df_test = train_test_split(df_cl, test_size=0.3, random_state=911, shuffle=True)"
   ]
  },
  {
   "cell_type": "code",
   "execution_count": 7,
   "metadata": {
    "execution": {
     "iopub.execute_input": "2022-03-11T15:27:26.749111Z",
     "iopub.status.busy": "2022-03-11T15:27:26.748586Z",
     "iopub.status.idle": "2022-03-11T15:27:28.483977Z",
     "shell.execute_reply": "2022-03-11T15:27:28.483077Z",
     "shell.execute_reply.started": "2022-03-11T15:27:26.749069Z"
    }
   },
   "outputs": [],
   "source": [
    "df_train[[\"label\", \"text\"]].to_csv(\"df_train.csv\", encoding=\"utf-8-sig\", index=False)"
   ]
  },
  {
   "cell_type": "markdown",
   "metadata": {},
   "source": [
    "## Loading the training dataset using hugging-face dataset"
   ]
  },
  {
   "cell_type": "code",
   "execution_count": 8,
   "metadata": {
    "execution": {
     "iopub.execute_input": "2022-03-11T15:27:40.385143Z",
     "iopub.status.busy": "2022-03-11T15:27:40.384651Z",
     "iopub.status.idle": "2022-03-11T15:27:42.565624Z",
     "shell.execute_reply": "2022-03-11T15:27:42.564854Z",
     "shell.execute_reply.started": "2022-03-11T15:27:40.385098Z"
    },
    "id": "0fGDjDWuQi6l",
    "outputId": "f81313aa-bfab-4a07-98a9-3431b44601b9"
   },
   "outputs": [
    {
     "name": "stderr",
     "output_type": "stream",
     "text": [
      "/opt/conda/lib/python3.7/site-packages/datasets/load.py:1669: FutureWarning: 'script_version' was renamed to 'revision' in version 1.13 and will be removed in 1.15.\n",
      "  \"'script_version' was renamed to 'revision' in version 1.13 and will be removed in 1.15.\", FutureWarning\n"
     ]
    },
    {
     "name": "stdout",
     "output_type": "stream",
     "text": [
      "Downloading and preparing dataset csv/default to /root/.cache/huggingface/datasets/csv/default-980b5f13cefe7c1d/0.0.0/433e0ccc46f9880962cc2b12065189766fbb2bee57a221866138fb9203c83519...\n"
     ]
    },
    {
     "data": {
      "application/vnd.jupyter.widget-view+json": {
       "model_id": "153ad822f1f94e40b5ff13203c9cf4fd",
       "version_major": 2,
       "version_minor": 0
      },
      "text/plain": [
       "  0%|          | 0/1 [00:00<?, ?it/s]"
      ]
     },
     "metadata": {},
     "output_type": "display_data"
    },
    {
     "data": {
      "application/vnd.jupyter.widget-view+json": {
       "model_id": "2b0fb4ff0065415190ff3de31758495c",
       "version_major": 2,
       "version_minor": 0
      },
      "text/plain": [
       "  0%|          | 0/1 [00:00<?, ?it/s]"
      ]
     },
     "metadata": {},
     "output_type": "display_data"
    },
    {
     "name": "stdout",
     "output_type": "stream",
     "text": [
      "Dataset csv downloaded and prepared to /root/.cache/huggingface/datasets/csv/default-980b5f13cefe7c1d/0.0.0/433e0ccc46f9880962cc2b12065189766fbb2bee57a221866138fb9203c83519. Subsequent calls will reuse this data.\n"
     ]
    }
   ],
   "source": [
    "df = load_dataset('csv', script_version=\"master\", data_files=[\"./df_train.csv\"], delimiter=\",\", split=\"train\")\n",
    "df = df.train_test_split()"
   ]
  },
  {
   "cell_type": "code",
   "execution_count": 9,
   "metadata": {
    "execution": {
     "iopub.execute_input": "2022-03-11T15:27:46.051349Z",
     "iopub.status.busy": "2022-03-11T15:27:46.050461Z",
     "iopub.status.idle": "2022-03-11T15:27:46.059173Z",
     "shell.execute_reply": "2022-03-11T15:27:46.058338Z",
     "shell.execute_reply.started": "2022-03-11T15:27:46.051307Z"
    },
    "id": "bxykhl5PoN1m",
    "outputId": "770f3dbc-a21e-455d-b007-786a2646a8c8"
   },
   "outputs": [
    {
     "data": {
      "text/plain": [
       "DatasetDict({\n",
       "    train: Dataset({\n",
       "        features: ['label', 'text'],\n",
       "        num_rows: 240552\n",
       "    })\n",
       "    test: Dataset({\n",
       "        features: ['label', 'text'],\n",
       "        num_rows: 80185\n",
       "    })\n",
       "})"
      ]
     },
     "execution_count": 9,
     "metadata": {},
     "output_type": "execute_result"
    }
   ],
   "source": [
    "df"
   ]
  },
  {
   "cell_type": "markdown",
   "metadata": {},
   "source": [
    "## Using MARBERT Tokenizer"
   ]
  },
  {
   "cell_type": "code",
   "execution_count": 10,
   "metadata": {
    "execution": {
     "iopub.execute_input": "2022-03-11T15:27:49.615963Z",
     "iopub.status.busy": "2022-03-11T15:27:49.615308Z",
     "iopub.status.idle": "2022-03-11T15:28:01.935854Z",
     "shell.execute_reply": "2022-03-11T15:28:01.935057Z",
     "shell.execute_reply.started": "2022-03-11T15:27:49.615925Z"
    },
    "id": "-1eSJJdjSpOb",
    "outputId": "e5cae811-c812-47b3-b476-9f6e3e20244a"
   },
   "outputs": [],
   "source": [
    "tokenizer = AutoTokenizer.from_pretrained(\"UBC-NLP/MARBERT\")\n",
    "\n",
    "def preprocess_function(examples):\n",
    "    return tokenizer(examples[\"text\"], truncation=True)"
   ]
  },
  {
   "cell_type": "code",
   "execution_count": 11,
   "metadata": {
    "execution": {
     "iopub.execute_input": "2022-03-11T15:28:01.937940Z",
     "iopub.status.busy": "2022-03-11T15:28:01.937428Z",
     "iopub.status.idle": "2022-03-11T15:28:32.785897Z",
     "shell.execute_reply": "2022-03-11T15:28:32.785216Z",
     "shell.execute_reply.started": "2022-03-11T15:28:01.937897Z"
    },
    "id": "KX9Mgz4dk6sV",
    "outputId": "b74fe640-314b-4e32-c734-b9bc6582e79e"
   },
   "outputs": [
    {
     "data": {
      "application/vnd.jupyter.widget-view+json": {
       "model_id": "5e2d8e42c63b4764bc1a04f1d75a7df6",
       "version_major": 2,
       "version_minor": 0
      },
      "text/plain": [
       "  0%|          | 0/241 [00:00<?, ?ba/s]"
      ]
     },
     "metadata": {},
     "output_type": "display_data"
    },
    {
     "name": "stderr",
     "output_type": "stream",
     "text": [
      "Asking to truncate to max_length but no maximum length is provided and the model has no predefined maximum length. Default to no truncation.\n"
     ]
    },
    {
     "data": {
      "application/vnd.jupyter.widget-view+json": {
       "model_id": "b81ec460323c456284e88ad2aa25ce2b",
       "version_major": 2,
       "version_minor": 0
      },
      "text/plain": [
       "  0%|          | 0/81 [00:00<?, ?ba/s]"
      ]
     },
     "metadata": {},
     "output_type": "display_data"
    }
   ],
   "source": [
    "tokenized_df = df.map(preprocess_function, batched=True)\n",
    "tokenized_df = tokenized_df.remove_columns([\"text\"]) "
   ]
  },
  {
   "cell_type": "code",
   "execution_count": 12,
   "metadata": {
    "execution": {
     "iopub.execute_input": "2022-03-11T15:28:32.787595Z",
     "iopub.status.busy": "2022-03-11T15:28:32.787325Z",
     "iopub.status.idle": "2022-03-11T15:28:32.794557Z",
     "shell.execute_reply": "2022-03-11T15:28:32.793689Z",
     "shell.execute_reply.started": "2022-03-11T15:28:32.787560Z"
    },
    "id": "YYIoHUEbznvE"
   },
   "outputs": [],
   "source": [
    "data_collator = DataCollatorWithPadding(tokenizer=tokenizer, return_tensors=\"tf\")"
   ]
  },
  {
   "cell_type": "code",
   "execution_count": 13,
   "metadata": {
    "execution": {
     "iopub.execute_input": "2022-03-11T15:28:32.797862Z",
     "iopub.status.busy": "2022-03-11T15:28:32.797627Z",
     "iopub.status.idle": "2022-03-11T15:28:38.734286Z",
     "shell.execute_reply": "2022-03-11T15:28:38.733505Z",
     "shell.execute_reply.started": "2022-03-11T15:28:32.797836Z"
    },
    "id": "giXjsXUyo5tQ"
   },
   "outputs": [],
   "source": [
    "tf_train_dataset = tokenized_df[\"train\"].to_tf_dataset(\n",
    "    columns=[\"attention_mask\", \"input_ids\", \"label\"],\n",
    "    shuffle=True,\n",
    "    batch_size=16,\n",
    "    collate_fn=data_collator,\n",
    ")\n",
    "\n",
    "tf_validation_dataset = tokenized_df[\"test\"].to_tf_dataset(\n",
    "    columns=[\"attention_mask\", \"input_ids\", \"label\"],\n",
    "    shuffle=False,\n",
    "    batch_size=16,\n",
    "    collate_fn=data_collator,\n",
    ")"
   ]
  },
  {
   "cell_type": "code",
   "execution_count": 14,
   "metadata": {
    "execution": {
     "iopub.execute_input": "2022-03-11T15:28:38.737431Z",
     "iopub.status.busy": "2022-03-11T15:28:38.735588Z",
     "iopub.status.idle": "2022-03-11T15:28:38.744314Z",
     "shell.execute_reply": "2022-03-11T15:28:38.743651Z",
     "shell.execute_reply.started": "2022-03-11T15:28:38.737396Z"
    },
    "id": "SB8kYU_ow_-P"
   },
   "outputs": [],
   "source": [
    "batch_size = 16\n",
    "num_epochs = 5\n",
    "batches_per_epoch = len(tokenized_df[\"train\"]) // batch_size\n",
    "total_train_steps = int(batches_per_epoch * num_epochs)\n",
    "optimizer, schedule = create_optimizer(init_lr=2e-5, num_warmup_steps=0, num_train_steps=total_train_steps)"
   ]
  },
  {
   "cell_type": "code",
   "execution_count": 15,
   "metadata": {
    "execution": {
     "iopub.execute_input": "2022-03-11T15:28:38.745939Z",
     "iopub.status.busy": "2022-03-11T15:28:38.745602Z",
     "iopub.status.idle": "2022-03-11T15:28:46.744824Z",
     "shell.execute_reply": "2022-03-11T15:28:46.744102Z",
     "shell.execute_reply.started": "2022-03-11T15:28:38.745900Z"
    },
    "id": "llxfZ10lxa8r",
    "outputId": "772c73db-8c5f-43c5-e4e6-3c4c7fe15b20"
   },
   "outputs": [
    {
     "name": "stderr",
     "output_type": "stream",
     "text": [
      "All model checkpoint layers were used when initializing TFBertForSequenceClassification.\n",
      "\n",
      "Some layers of TFBertForSequenceClassification were not initialized from the model checkpoint at UBC-NLP/MARBERT and are newly initialized: ['classifier']\n",
      "You should probably TRAIN this model on a down-stream task to be able to use it for predictions and inference.\n"
     ]
    }
   ],
   "source": [
    "model = TFAutoModelForSequenceClassification.from_pretrained(\"UBC-NLP/MARBERT\", num_labels=18)"
   ]
  },
  {
   "cell_type": "code",
   "execution_count": 14,
   "metadata": {
    "execution": {
     "iopub.execute_input": "2022-03-11T12:45:32.904936Z",
     "iopub.status.busy": "2022-03-11T12:45:32.904394Z",
     "iopub.status.idle": "2022-03-11T12:45:32.909611Z",
     "shell.execute_reply": "2022-03-11T12:45:32.908936Z",
     "shell.execute_reply.started": "2022-03-11T12:45:32.904892Z"
    },
    "id": "s-GcjHqq1lHe",
    "outputId": "91f63d2e-f7ce-4ae8-91d1-8d5b83140ac4"
   },
   "outputs": [],
   "source": [
    "\n",
    "model_checkpoint_callback = tf.keras.callbacks.ModelCheckpoint(\n",
    "    filepath='./',\n",
    "    save_weights_only=True,\n",
    "    monitor='val_loss',\n",
    "    mode='min',\n",
    "    save_best_only=True)\n",
    "\n",
    "callbacks = [model_checkpoint_callback]"
   ]
  },
  {
   "cell_type": "markdown",
   "metadata": {},
   "source": [
    "## Model Training"
   ]
  },
  {
   "cell_type": "code",
   "execution_count": 15,
   "metadata": {
    "execution": {
     "iopub.execute_input": "2022-03-11T12:46:18.751019Z",
     "iopub.status.busy": "2022-03-11T12:46:18.750768Z",
     "iopub.status.idle": "2022-03-11T14:38:48.585210Z",
     "shell.execute_reply": "2022-03-11T14:38:48.584385Z",
     "shell.execute_reply.started": "2022-03-11T12:46:18.750990Z"
    },
    "id": "MC6a879HxEsP",
    "outputId": "03092922-1edc-484d-ff7b-65b1efcdba8e"
   },
   "outputs": [
    {
     "name": "stderr",
     "output_type": "stream",
     "text": [
      "No loss specified in compile() - the model's internal loss computation will be used as the loss. Don't panic - this is a common way to train TensorFlow models in Transformers! Please ensure your labels are passed as the 'labels' key of the input dict so that they are accessible to the model during the forward pass. To disable this behaviour, please pass a loss argument, or explicitly pass loss=None if you do not want your model to compute a loss.\n"
     ]
    },
    {
     "name": "stdout",
     "output_type": "stream",
     "text": [
      "Epoch 1/3\n",
      "15034/15034 [==============================] - 2253s 149ms/step - loss: 1.5081 - val_loss: 1.3288\n",
      "Epoch 2/3\n",
      "15034/15034 [==============================] - 2236s 149ms/step - loss: 1.0758 - val_loss: 1.3213\n",
      "Epoch 3/3\n",
      "15034/15034 [==============================] - 2255s 150ms/step - loss: 0.7219 - val_loss: 1.4515\n"
     ]
    },
    {
     "data": {
      "text/plain": [
       "<keras.callbacks.History at 0x7f87e644f750>"
      ]
     },
     "execution_count": 15,
     "metadata": {},
     "output_type": "execute_result"
    }
   ],
   "source": [
    "model.compile(optimizer=optimizer)\n",
    "\n",
    "model.fit(\n",
    "    tf_train_dataset,\n",
    "    validation_data=tf_validation_dataset,\n",
    "    epochs=3\n",
    ")"
   ]
  },
  {
   "cell_type": "code",
   "execution_count": 26,
   "metadata": {
    "execution": {
     "iopub.execute_input": "2022-03-11T15:35:27.161972Z",
     "iopub.status.busy": "2022-03-11T15:35:27.161689Z",
     "iopub.status.idle": "2022-03-11T15:35:27.935317Z",
     "shell.execute_reply": "2022-03-11T15:35:27.934429Z",
     "shell.execute_reply.started": "2022-03-11T15:35:27.161939Z"
    },
    "id": "lrf40mEAxSr2"
   },
   "outputs": [],
   "source": [
    "# model.save_pretrained(\"./\")\n",
    "model.load_weights(\"./tf_model.h5\")"
   ]
  },
  {
   "cell_type": "code",
   "execution_count": null,
   "metadata": {
    "execution": {
     "iopub.status.busy": "2022-03-11T14:38:50.322795Z",
     "iopub.status.idle": "2022-03-11T14:38:50.323452Z",
     "shell.execute_reply": "2022-03-11T14:38:50.323231Z",
     "shell.execute_reply.started": "2022-03-11T14:38:50.323206Z"
    }
   },
   "outputs": [],
   "source": [
    "# predict_input = tokenizer.encode(df_cl[\"text\"][0],\n",
    "#                                  truncation=True,\n",
    "#                                  padding=True,\n",
    "#                                  return_tensors=\"tf\")"
   ]
  },
  {
   "cell_type": "markdown",
   "metadata": {},
   "source": [
    "## Encoding the test data text, and doing the evaluation"
   ]
  },
  {
   "cell_type": "code",
   "execution_count": 51,
   "metadata": {
    "execution": {
     "iopub.execute_input": "2022-03-11T15:55:55.608124Z",
     "iopub.status.busy": "2022-03-11T15:55:55.607518Z",
     "iopub.status.idle": "2022-03-11T15:56:31.781304Z",
     "shell.execute_reply": "2022-03-11T15:56:31.780466Z",
     "shell.execute_reply.started": "2022-03-11T15:55:55.608082Z"
    }
   },
   "outputs": [],
   "source": [
    "input_seq_test = [tokenizer.encode(lst, truncation=True, padding=True, return_tensors=\"tf\") \n",
    "                      for lst in df_test[\"text\"]]"
   ]
  },
  {
   "cell_type": "code",
   "execution_count": 52,
   "metadata": {
    "execution": {
     "iopub.execute_input": "2022-03-11T15:56:31.783144Z",
     "iopub.status.busy": "2022-03-11T15:56:31.782894Z",
     "iopub.status.idle": "2022-03-11T15:56:31.790251Z",
     "shell.execute_reply": "2022-03-11T15:56:31.789092Z",
     "shell.execute_reply.started": "2022-03-11T15:56:31.783108Z"
    }
   },
   "outputs": [
    {
     "data": {
      "text/plain": [
       "137460"
      ]
     },
     "execution_count": 52,
     "metadata": {},
     "output_type": "execute_result"
    }
   ],
   "source": [
    "len(input_seq_test)"
   ]
  },
  {
   "cell_type": "code",
   "execution_count": 53,
   "metadata": {
    "execution": {
     "iopub.execute_input": "2022-03-11T15:56:31.792281Z",
     "iopub.status.busy": "2022-03-11T15:56:31.791759Z",
     "iopub.status.idle": "2022-03-11T15:56:31.803826Z",
     "shell.execute_reply": "2022-03-11T15:56:31.803091Z",
     "shell.execute_reply.started": "2022-03-11T15:56:31.792207Z"
    }
   },
   "outputs": [
    {
     "data": {
      "text/plain": [
       "<tf.Tensor: shape=(1, 6), dtype=int32, numpy=array([[    2,  1956,  4567, 12795,  9421,     3]], dtype=int32)>"
      ]
     },
     "execution_count": 53,
     "metadata": {},
     "output_type": "execute_result"
    }
   ],
   "source": [
    "input_seq_test[0]"
   ]
  },
  {
   "cell_type": "code",
   "execution_count": 60,
   "metadata": {
    "execution": {
     "iopub.execute_input": "2022-03-11T16:10:17.091553Z",
     "iopub.status.busy": "2022-03-11T16:10:17.090825Z",
     "iopub.status.idle": "2022-03-11T18:32:36.307702Z",
     "shell.execute_reply": "2022-03-11T18:32:36.306524Z",
     "shell.execute_reply.started": "2022-03-11T16:10:17.091515Z"
    }
   },
   "outputs": [],
   "source": [
    "tf_output = [np.argmax(model.predict(lst)[0], axis=1) for lst in input_seq_test]"
   ]
  },
  {
   "cell_type": "code",
   "execution_count": 61,
   "metadata": {
    "execution": {
     "iopub.execute_input": "2022-03-11T18:32:36.310930Z",
     "iopub.status.busy": "2022-03-11T18:32:36.310458Z",
     "iopub.status.idle": "2022-03-11T18:32:36.368464Z",
     "shell.execute_reply": "2022-03-11T18:32:36.367756Z",
     "shell.execute_reply.started": "2022-03-11T18:32:36.310889Z"
    }
   },
   "outputs": [],
   "source": [
    "prediction = [lst[0] for lst in tf_output]"
   ]
  },
  {
   "cell_type": "code",
   "execution_count": 62,
   "metadata": {
    "execution": {
     "iopub.execute_input": "2022-03-11T18:32:36.370104Z",
     "iopub.status.busy": "2022-03-11T18:32:36.369856Z",
     "iopub.status.idle": "2022-03-11T18:32:36.376683Z",
     "shell.execute_reply": "2022-03-11T18:32:36.375979Z",
     "shell.execute_reply.started": "2022-03-11T18:32:36.370070Z"
    }
   },
   "outputs": [],
   "source": [
    "dialects_dict = {\n",
    "    3: \"EG\",\n",
    "    11: \"PL\",\n",
    "    6: \"KW\", \n",
    "    8: \"LY\",\n",
    "    12: \"QA\",\n",
    "    5: \"JO\",\n",
    "    7: \"LB\",\n",
    "    13: \"SA\",\n",
    "    0: \"AE\",\n",
    "    1: \"BH\",\n",
    "    10: \"OM\",\n",
    "    15: \"SY\",\n",
    "    2: \"DZ\",\n",
    "    4: \"IQ\",\n",
    "    9: \"MA\",\n",
    "    17: \"YE\",\n",
    "    16: \"TN\",\n",
    "    14: \"SD\"\n",
    "}"
   ]
  },
  {
   "cell_type": "code",
   "execution_count": 63,
   "metadata": {
    "execution": {
     "iopub.execute_input": "2022-03-11T18:32:36.378694Z",
     "iopub.status.busy": "2022-03-11T18:32:36.378382Z",
     "iopub.status.idle": "2022-03-11T18:32:36.802576Z",
     "shell.execute_reply": "2022-03-11T18:32:36.801777Z",
     "shell.execute_reply.started": "2022-03-11T18:32:36.378659Z"
    }
   },
   "outputs": [
    {
     "name": "stdout",
     "output_type": "stream",
     "text": [
      "                   pre       rec       spe        f1       geo       iba       sup\n",
      "\n",
      "          0       0.47      0.48      0.97      0.48      0.68      0.44      7970\n",
      "          1       0.44      0.36      0.97      0.40      0.60      0.33      8002\n",
      "          2       0.61      0.60      0.99      0.60      0.77      0.57      4855\n",
      "          3       0.77      0.87      0.96      0.82      0.92      0.83     17287\n",
      "          4       0.63      0.63      0.99      0.63      0.79      0.60      4654\n",
      "          5       0.45      0.39      0.97      0.42      0.62      0.36      8390\n",
      "          6       0.57      0.58      0.96      0.58      0.75      0.54     12620\n",
      "          7       0.69      0.66      0.98      0.67      0.80      0.63      8247\n",
      "          8       0.73      0.74      0.98      0.74      0.85      0.71     10903\n",
      "          9       0.84      0.61      1.00      0.71      0.78      0.59      3452\n",
      "         10       0.48      0.44      0.98      0.46      0.66      0.41      5738\n",
      "         11       0.55      0.56      0.95      0.56      0.73      0.51     13096\n",
      "         12       0.50      0.53      0.96      0.52      0.72      0.49      9293\n",
      "         13       0.45      0.56      0.96      0.50      0.73      0.51      8022\n",
      "         14       0.69      0.70      0.99      0.69      0.83      0.67      4323\n",
      "         15       0.47      0.43      0.98      0.45      0.65      0.40      4846\n",
      "         16       0.61      0.53      0.99      0.57      0.73      0.51      2722\n",
      "         17       0.42      0.28      0.99      0.33      0.52      0.26      3040\n",
      "\n",
      "avg / total       0.58      0.59      0.97      0.58      0.75      0.55    137460\n",
      "\n"
     ]
    }
   ],
   "source": [
    "from imblearn.metrics import classification_report_imbalanced\n",
    "\n",
    "print(classification_report_imbalanced(df_test[\"label\"], prediction))"
   ]
  },
  {
   "cell_type": "markdown",
   "metadata": {},
   "source": [
    "## Tuned MARBERT got 58% f1 score, and this is better than LinearSVC"
   ]
  },
  {
   "cell_type": "code",
   "execution_count": null,
   "metadata": {},
   "outputs": [],
   "source": []
  }
 ],
 "metadata": {
  "kernelspec": {
   "display_name": "Python 3 (ipykernel)",
   "language": "python",
   "name": "python3"
  },
  "language_info": {
   "codemirror_mode": {
    "name": "ipython",
    "version": 3
   },
   "file_extension": ".py",
   "mimetype": "text/x-python",
   "name": "python",
   "nbconvert_exporter": "python",
   "pygments_lexer": "ipython3",
   "version": "3.9.10"
  }
 },
 "nbformat": 4,
 "nbformat_minor": 4
}

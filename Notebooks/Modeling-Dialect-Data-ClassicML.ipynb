{
 "cells": [
  {
   "cell_type": "code",
   "execution_count": 6,
   "metadata": {
    "execution": {
     "iopub.execute_input": "2022-03-10T00:17:28.081327Z",
     "iopub.status.busy": "2022-03-10T00:17:28.080807Z",
     "iopub.status.idle": "2022-03-10T00:17:28.092745Z",
     "shell.execute_reply": "2022-03-10T00:17:28.091860Z",
     "shell.execute_reply.started": "2022-03-10T00:17:28.081292Z"
    }
   },
   "outputs": [],
   "source": [
    "import numpy as np\n",
    "import pandas as pd\n",
    "from matplotlib import pyplot as plt\n",
    "import seaborn as sns\n",
    "\n",
    "from sklearn.utils import shuffle\n",
    "from sklearn.feature_extraction.text import TfidfVectorizer\n",
    "from sklearn.metrics import accuracy_score, recall_score, f1_score, confusion_matrix, classification_report\n",
    "\n",
    "from sklearn.linear_model import SGDClassifier\n",
    "from sklearn.svm import SVC \n",
    "from sklearn.svm import LinearSVC \n",
    "\n",
    "# from sklearn.pipeline import make_pipeline\n",
    "from imblearn.pipeline import make_pipeline\n",
    "from sklearn.model_selection import train_test_split\n",
    "\n",
    "from imblearn.over_sampling import SMOTE\n",
    "from imblearn.metrics import classification_report_imbalanced\n",
    "\n",
    "import pickle\n",
    "import joblib"
   ]
  },
  {
   "cell_type": "code",
   "execution_count": 7,
   "metadata": {
    "execution": {
     "iopub.execute_input": "2022-03-10T00:17:28.094850Z",
     "iopub.status.busy": "2022-03-10T00:17:28.094140Z",
     "iopub.status.idle": "2022-03-10T00:17:32.145206Z",
     "shell.execute_reply": "2022-03-10T00:17:32.144459Z",
     "shell.execute_reply.started": "2022-03-10T00:17:28.094800Z"
    }
   },
   "outputs": [],
   "source": [
    "df = pd.read_csv(\"../input/tokenized-df/tokenized_df.csv\", engine=\"python\")"
   ]
  },
  {
   "cell_type": "code",
   "execution_count": 8,
   "metadata": {
    "execution": {
     "iopub.execute_input": "2022-03-10T00:17:32.147561Z",
     "iopub.status.busy": "2022-03-10T00:17:32.146541Z",
     "iopub.status.idle": "2022-03-10T00:17:32.443142Z",
     "shell.execute_reply": "2022-03-10T00:17:32.442178Z",
     "shell.execute_reply.started": "2022-03-10T00:17:32.147509Z"
    }
   },
   "outputs": [],
   "source": [
    "df.dropna(inplace=True)\n",
    "df.drop(df[df.text == '[]'].index, inplace=True)"
   ]
  },
  {
   "cell_type": "code",
   "execution_count": 9,
   "metadata": {
    "execution": {
     "iopub.execute_input": "2022-03-10T00:17:32.444925Z",
     "iopub.status.busy": "2022-03-10T00:17:32.444579Z",
     "iopub.status.idle": "2022-03-10T00:17:32.578417Z",
     "shell.execute_reply": "2022-03-10T00:17:32.577430Z",
     "shell.execute_reply.started": "2022-03-10T00:17:32.444875Z"
    }
   },
   "outputs": [
    {
     "data": {
      "text/plain": [
       "(0, 0)"
      ]
     },
     "execution_count": 9,
     "metadata": {},
     "output_type": "execute_result"
    }
   ],
   "source": [
    "len(df[df.text == '[]']), len(df[df.dialect.isna()])"
   ]
  },
  {
   "cell_type": "code",
   "execution_count": 10,
   "metadata": {
    "execution": {
     "iopub.execute_input": "2022-03-10T00:17:32.581532Z",
     "iopub.status.busy": "2022-03-10T00:17:32.580732Z",
     "iopub.status.idle": "2022-03-10T00:17:32.619104Z",
     "shell.execute_reply": "2022-03-10T00:17:32.618188Z",
     "shell.execute_reply.started": "2022-03-10T00:17:32.581474Z"
    }
   },
   "outputs": [
    {
     "data": {
      "text/plain": [
       "(457953,)"
      ]
     },
     "execution_count": 10,
     "metadata": {},
     "output_type": "execute_result"
    }
   ],
   "source": [
    "X, Y = df.text.values, df.dialect.values\n",
    "\n",
    "X.shape"
   ]
  },
  {
   "cell_type": "code",
   "execution_count": 11,
   "metadata": {
    "execution": {
     "iopub.execute_input": "2022-03-10T00:17:32.621162Z",
     "iopub.status.busy": "2022-03-10T00:17:32.620449Z",
     "iopub.status.idle": "2022-03-10T00:17:32.729767Z",
     "shell.execute_reply": "2022-03-10T00:17:32.729139Z",
     "shell.execute_reply.started": "2022-03-10T00:17:32.621091Z"
    }
   },
   "outputs": [
    {
     "data": {
      "text/plain": [
       "((320567,), (137386,))"
      ]
     },
     "execution_count": 11,
     "metadata": {},
     "output_type": "execute_result"
    }
   ],
   "source": [
    "x_train, x_test, y_train, y_test = train_test_split(X, Y, test_size=0.3, random_state=911, shuffle=True)\n",
    "\n",
    "x_train.shape, x_test.shape"
   ]
  },
  {
   "cell_type": "code",
   "execution_count": 12,
   "metadata": {
    "execution": {
     "iopub.execute_input": "2022-03-10T00:17:32.731085Z",
     "iopub.status.busy": "2022-03-10T00:17:32.730777Z",
     "iopub.status.idle": "2022-03-10T00:22:55.961847Z",
     "shell.execute_reply": "2022-03-10T00:22:55.960963Z",
     "shell.execute_reply.started": "2022-03-10T00:17:32.731058Z"
    }
   },
   "outputs": [
    {
     "name": "stderr",
     "output_type": "stream",
     "text": [
      "/opt/conda/lib/python3.7/site-packages/imblearn/utils/_validation.py:590: FutureWarning: Pass sampling_strategy=minority as keyword args. From version 0.9 passing these as positional arguments will result in an error\n",
      "  FutureWarning,\n"
     ]
    },
    {
     "data": {
      "text/plain": [
       "Pipeline(steps=[('tfidfvectorizer',\n",
       "                 TfidfVectorizer(ngram_range=(1, 5), sublinear_tf=True)),\n",
       "                ('smote', SMOTE(sampling_strategy='minority')),\n",
       "                ('linearsvc', LinearSVC(random_state=0, tol=1e-05))])"
      ]
     },
     "execution_count": 12,
     "metadata": {},
     "output_type": "execute_result"
    }
   ],
   "source": [
    "clf = make_pipeline(TfidfVectorizer(ngram_range=(1, 5), binary=False,sublinear_tf=True),\n",
    "                    SMOTE(\"minority\"),\n",
    "                    LinearSVC(random_state=0, tol=1e-5))\n",
    "\n",
    "clf.fit(x_train, y_train)"
   ]
  },
  {
   "cell_type": "code",
   "execution_count": 13,
   "metadata": {
    "execution": {
     "iopub.execute_input": "2022-03-10T00:22:55.963712Z",
     "iopub.status.busy": "2022-03-10T00:22:55.963491Z",
     "iopub.status.idle": "2022-03-10T00:23:15.166891Z",
     "shell.execute_reply": "2022-03-10T00:23:15.166023Z",
     "shell.execute_reply.started": "2022-03-10T00:22:55.963686Z"
    }
   },
   "outputs": [
    {
     "name": "stdout",
     "output_type": "stream",
     "text": [
      "                   pre       rec       spe        f1       geo       iba       sup\n",
      "\n",
      "         AE       0.43      0.42      0.97      0.42      0.63      0.38      8008\n",
      "         BH       0.43      0.27      0.98      0.33      0.51      0.24      7990\n",
      "         DZ       0.64      0.49      0.99      0.56      0.70      0.46      4882\n",
      "         EG       0.60      0.89      0.91      0.72      0.90      0.82     17166\n",
      "         IQ       0.64      0.51      0.99      0.57      0.71      0.48      4649\n",
      "         JO       0.45      0.30      0.98      0.36      0.54      0.27      8304\n",
      "         KW       0.46      0.61      0.93      0.53      0.75      0.55     12721\n",
      "         LB       0.59      0.70      0.97      0.64      0.82      0.66      8204\n",
      "         LY       0.66      0.66      0.97      0.66      0.80      0.62     10901\n",
      "         MA       0.74      0.57      0.99      0.65      0.76      0.55      3465\n",
      "         OM       0.47      0.32      0.98      0.38      0.56      0.30      5703\n",
      "         PL       0.47      0.55      0.94      0.51      0.71      0.49     13108\n",
      "         QA       0.46      0.51      0.96      0.48      0.70      0.47      9282\n",
      "         SA       0.43      0.43      0.97      0.43      0.64      0.39      8065\n",
      "         SD       0.72      0.52      0.99      0.61      0.72      0.50      4316\n",
      "         SY       0.52      0.23      0.99      0.32      0.48      0.21      4829\n",
      "         TN       0.57      0.45      0.99      0.50      0.67      0.42      2729\n",
      "         YE       0.53      0.15      1.00      0.24      0.39      0.14      3064\n",
      "\n",
      "avg / total       0.53      0.53      0.96      0.52      0.70      0.49    137386\n",
      "\n"
     ]
    }
   ],
   "source": [
    "y_pred = clf.predict(x_test)\n",
    "print(classification_report_imbalanced(y_test, y_pred))"
   ]
  },
  {
   "cell_type": "code",
   "execution_count": 14,
   "metadata": {
    "execution": {
     "iopub.execute_input": "2022-03-10T00:24:41.507022Z",
     "iopub.status.busy": "2022-03-10T00:24:41.506717Z",
     "iopub.status.idle": "2022-03-10T00:26:39.889707Z",
     "shell.execute_reply": "2022-03-10T00:26:39.888793Z",
     "shell.execute_reply.started": "2022-03-10T00:24:41.506992Z"
    }
   },
   "outputs": [
    {
     "data": {
      "text/plain": [
       "['classification_pipeline.pkl']"
      ]
     },
     "execution_count": 14,
     "metadata": {},
     "output_type": "execute_result"
    }
   ],
   "source": [
    "joblib.dump(clf, 'classification_pipeline.pkl')"
   ]
  },
  {
   "cell_type": "code",
   "execution_count": null,
   "metadata": {},
   "outputs": [],
   "source": []
  },
  {
   "cell_type": "code",
   "execution_count": null,
   "metadata": {},
   "outputs": [],
   "source": []
  }
 ],
 "metadata": {
  "kernelspec": {
   "display_name": "Python 3 (ipykernel)",
   "language": "python",
   "name": "python3"
  },
  "language_info": {
   "codemirror_mode": {
    "name": "ipython",
    "version": 3
   },
   "file_extension": ".py",
   "mimetype": "text/x-python",
   "name": "python",
   "nbconvert_exporter": "python",
   "pygments_lexer": "ipython3",
   "version": "3.9.10"
  }
 },
 "nbformat": 4,
 "nbformat_minor": 4
}
